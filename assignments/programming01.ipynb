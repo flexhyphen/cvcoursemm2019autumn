{
 "cells": [
  {
   "cell_type": "markdown",
   "metadata": {},
   "source": [
    "## Лаборатоная работа №1"
   ]
  },
  {
   "cell_type": "markdown",
   "metadata": {},
   "source": [
    "Фамилия: Иванов \n",
    "    \n",
    "Имя: Иван\n",
    "    \n",
    "Отчество: Иванович\n",
    "    \n",
    "ВУЗ: МГУ\n",
    "    \n",
    "Факультет: мехмат\n",
    "    \n",
    "Курс: 5\n",
    "    \n",
    "Кафедра: (если есть)\n",
    "    \n",
    "Научный руководитель: (если есть)"
   ]
  },
  {
   "cell_type": "markdown",
   "metadata": {},
   "source": [
    "### Введение в Keras"
   ]
  },
  {
   "cell_type": "markdown",
   "metadata": {},
   "source": [
    "Цели лабораторной работы: \n",
    "- разобраться с интерфейсом слоёв, участвующих в построении нейронной сети\n",
    "- научиться обучать нейронные сети"
   ]
  },
  {
   "cell_type": "code",
   "execution_count": 1,
   "metadata": {},
   "outputs": [
    {
     "name": "stderr",
     "output_type": "stream",
     "text": [
      "Using TensorFlow backend.\n"
     ]
    },
    {
     "name": "stdout",
     "output_type": "stream",
     "text": [
      "2.2.4\n",
      "1.14.0\n"
     ]
    }
   ],
   "source": [
    "import numpy as np\n",
    "np.random.seed(123)  # for reproducibility\n",
    " \n",
    "from keras.models import Sequential, Model\n",
    "from keras.layers import Dense, Dropout, Activation, Flatten, Input\n",
    "from keras.layers import Convolution2D, Conv2D, MaxPooling2D\n",
    "from keras.utils import np_utils\n",
    "from keras.datasets import mnist\n",
    " \n",
    "import matplotlib.pyplot as plt\n",
    "import tensorflow as tf\n",
    "import keras\n",
    "\n",
    "print(keras.__version__)\n",
    "print(tf.__version__)"
   ]
  },
  {
   "cell_type": "markdown",
   "metadata": {},
   "source": [
    "#### Подготовка данных"
   ]
  },
  {
   "cell_type": "code",
   "execution_count": 2,
   "metadata": {},
   "outputs": [
    {
     "name": "stdout",
     "output_type": "stream",
     "text": [
      "(60000, 28, 28) (60000,) (10000, 28, 28) (10000,)\n"
     ]
    }
   ],
   "source": [
    "(X_train, y_train), (X_test, y_test) = mnist.load_data()\n",
    "print(X_train.shape, y_train.shape, X_test.shape, y_test.shape)\n",
    "\n",
    "X_train = X_train.reshape(X_train.shape[0], 1, 28, 28)\n",
    "X_test = X_test.reshape(X_test.shape[0], 1, 28, 28)\n",
    "X_train = X_train.astype('float32')\n",
    "X_test = X_test.astype('float32')\n",
    "X_train /= 255\n",
    "X_test /= 255\n",
    " \n",
    "\n",
    "Y_train = np_utils.to_categorical(y_train, 10)\n",
    "Y_test = np_utils.to_categorical(y_test, 10)\n",
    "\n",
    "index = 1238\n",
    "plt.imshow(X_train[index,0, :,:])\n",
    "plt.show()\n",
    "\n",
    "print(np.max(X_train[index,0, :,:]), np.min(X_train[index,0, :,:]), np.dtype(np.max(X_train[index,0, :,:])))\n",
    "print(Y_train[index])\n",
    "print(np.argmax(Y_train[index]))"
   ]
  },
  {
   "cell_type": "markdown",
   "metadata": {},
   "source": [
    "#### 1. (1 балл) Обучите простейшую однослойную нейронную сеть. Какой максимальный результат на тесте вам удалось достичь? Параметры обучения можно менять"
   ]
  },
  {
   "cell_type": "code",
   "execution_count": 16,
   "metadata": {},
   "outputs": [],
   "source": [
    "# код, на котором достигается эта точность\n",
    "input_image = Input(shape=(1, 28, 28))\n",
    "flatten = Flatten()(input_image)\n",
    "dense2 = Dense(10, activation='softmax')(flatten)\n",
    "model = Model(inputs=input_image, outputs=dense2)\n",
    "\n",
    "#код обучения разрешается исправлять\n",
    "model.compile(loss='categorical_crossentropy',\n",
    "              optimizer='sgd',\n",
    "              metrics=['accuracy'])\n",
    "model.fit(X_train, Y_train, validation_split=0.25, batch_size=32, nb_epoch=1, verbose=1)\n",
    "score = model.evaluate(X_test, Y_test, verbose=0)\n",
    "print(score[0])"
   ]
  },
  {
   "cell_type": "code",
   "execution_count": null,
   "metadata": {},
   "outputs": [],
   "source": [
    "# ваша точность на тесте "
   ]
  },
  {
   "cell_type": "markdown",
   "metadata": {},
   "source": [
    "#### 2. (2 балла) Обучите двуслойную полносвязную сеть. Какой максимальный результат на тесте вам удалось достичь?"
   ]
  },
  {
   "cell_type": "code",
   "execution_count": null,
   "metadata": {},
   "outputs": [],
   "source": [
    "# ваша точность на тесте "
   ]
  },
  {
   "cell_type": "code",
   "execution_count": 20,
   "metadata": {},
   "outputs": [],
   "source": [
    "# ваш код, на котором достигается эта точность"
   ]
  },
  {
   "cell_type": "markdown",
   "metadata": {},
   "source": [
    "#### 3. (2 балла) Обучите трёхслойную полносвязную сеть. Какой максимальный результат на тесте вам удалось достичь?"
   ]
  },
  {
   "cell_type": "code",
   "execution_count": 22,
   "metadata": {},
   "outputs": [],
   "source": [
    "# ваша точность на тесте "
   ]
  },
  {
   "cell_type": "code",
   "execution_count": null,
   "metadata": {},
   "outputs": [],
   "source": [
    "# ваш код, на котором достигается эта точность"
   ]
  },
  {
   "cell_type": "markdown",
   "metadata": {},
   "source": [
    "#### 4. (3 балла) Улучшится ли ваш результат, есть в сеть добавить слои нормализации (dropout, batchnorm  и др.)?"
   ]
  },
  {
   "cell_type": "code",
   "execution_count": 24,
   "metadata": {},
   "outputs": [],
   "source": [
    "# ваш ответ"
   ]
  },
  {
   "cell_type": "code",
   "execution_count": 25,
   "metadata": {},
   "outputs": [],
   "source": [
    "# ваш код"
   ]
  },
  {
   "cell_type": "markdown",
   "metadata": {},
   "source": [
    "#### 5. (4 баллов) Обучите полносвязную нейронную сеть (без свёрточных слоёв), достигающую лучшего качества на тесте без ограничений на количество слоёв?"
   ]
  },
  {
   "cell_type": "code",
   "execution_count": 26,
   "metadata": {},
   "outputs": [],
   "source": [
    "# ваша точность на тесте "
   ]
  },
  {
   "cell_type": "code",
   "execution_count": 27,
   "metadata": {},
   "outputs": [],
   "source": [
    "# ваш код"
   ]
  },
  {
   "cell_type": "markdown",
   "metadata": {},
   "source": [
    "#### 6. (3 баллов) Обучите  нейронную сеть с  одним свёрточным слоем,  достигающую лучшего качества на тесте без ограничений на общее количество слоёв? Слой субдискретизации можно использовать в неограниченном количестве."
   ]
  },
  {
   "cell_type": "code",
   "execution_count": 28,
   "metadata": {},
   "outputs": [],
   "source": [
    "# ваша точность на тесте "
   ]
  },
  {
   "cell_type": "code",
   "execution_count": 29,
   "metadata": {},
   "outputs": [],
   "source": [
    "# ваш код"
   ]
  },
  {
   "cell_type": "markdown",
   "metadata": {},
   "source": [
    "#### 7. (5 баллов) Обучите лучшую нейронную сеть следующими оптимизаторами: SGD, SGD + Momentum, SGD + NAG, AdaGrad, Adadelta, RMSprop, Adam. Какой оптимизатор позволяет достигнуть наибольшего качества на тесте? Какой оптимизатор сходится быстрее?"
   ]
  },
  {
   "cell_type": "code",
   "execution_count": null,
   "metadata": {},
   "outputs": [],
   "source": [
    "# ваш ответ"
   ]
  },
  {
   "cell_type": "code",
   "execution_count": null,
   "metadata": {},
   "outputs": [],
   "source": [
    "# ваш код"
   ]
  }
 ],
 "metadata": {
  "kernelspec": {
   "display_name": "Python 3",
   "language": "python",
   "name": "python3"
  },
  "language_info": {
   "codemirror_mode": {
    "name": "ipython",
    "version": 3
   },
   "file_extension": ".py",
   "mimetype": "text/x-python",
   "name": "python",
   "nbconvert_exporter": "python",
   "pygments_lexer": "ipython3",
   "version": "3.7.3"
  }
 },
 "nbformat": 4,
 "nbformat_minor": 2
}
